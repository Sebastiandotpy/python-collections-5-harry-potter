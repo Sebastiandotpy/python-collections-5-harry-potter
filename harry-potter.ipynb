{
 "cells": [
  {
   "cell_type": "code",
   "execution_count": 3,
   "metadata": {},
   "outputs": [
    {
     "name": "stdout",
     "output_type": "stream",
     "text": [
      "1.Harry Potter And The Sorcerer's Stone: 1241100000\n",
      "2.Harry Potter And The Chamber Of Secrets: 771300000\n",
      "3.Harry Potter And The Half Blood Prince: 661300000\n"
     ]
    }
   ],
   "source": [
    "from typing import Dict\n",
    "\n",
    "def print_top_books(books: Dict[str, int]) -> None:\n",
    "    \"\"\"\n",
    "    Prints the top 3 books with their sales number from the given dictionary of books and salves numbers.\n",
    "    \n",
    "    Args:\n",
    "    books (dict): a dictionary with book titles as keys and their sales numbers as values\n",
    "    \n",
    "    Returns:\n",
    "    None\n",
    "    \"\"\"\n",
    "\n",
    "    # sort the books by their sales numbers in descending order\n",
    "    sorted_books = sorted(books.items(), key=lambda x: x[1], reverse=True)\n",
    "\n",
    "    # print the top 3 books\n",
    "    for rank, (book, sales) in enumerate(sorted_books[:3]):\n",
    "        print(f\"{rank+1}.{book}: {sales}\")\n",
    "\n",
    "\n",
    "books = {\n",
    "  'Harry Potter And The Sorcerer\\'s Stone': 1241100000,\n",
    "  'Harry Potter And The Chamber Of Secrets': 771300000,\n",
    "  'Harry Potter And The Prisoner Of Azkaban': 65210000,\n",
    "  'Harry Potter And The Goblet Of Fire': 645600000,\n",
    "  'Harry Potter And The Order Of The Phoenix': 635600000,\n",
    "  'Harry Potter And The Half Blood Prince': 661300000,\n",
    "  'Harry Potter And The Deathly Hallows ': 652200000,\n",
    "  }        \n",
    "\n",
    "print_top_books(books)"
   ]
  }
 ],
 "metadata": {
  "kernelspec": {
   "display_name": "Python 3",
   "language": "python",
   "name": "python3"
  },
  "language_info": {
   "codemirror_mode": {
    "name": "ipython",
    "version": 3
   },
   "file_extension": ".py",
   "mimetype": "text/x-python",
   "name": "python",
   "nbconvert_exporter": "python",
   "pygments_lexer": "ipython3",
   "version": "3.11.3"
  },
  "orig_nbformat": 4
 },
 "nbformat": 4,
 "nbformat_minor": 2
}
